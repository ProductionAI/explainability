{
 "cells": [
  {
   "cell_type": "code",
   "execution_count": 5,
   "id": "8a7435e9",
   "metadata": {},
   "outputs": [
    {
     "name": "stdout",
     "output_type": "stream",
     "text": [
      "Epoch 1/5\n",
      "1875/1875 [==============================] - 2s 1ms/step - loss: 0.2556 - accuracy: 0.9269\n",
      "Epoch 2/5\n",
      "1875/1875 [==============================] - 2s 1ms/step - loss: 0.1136 - accuracy: 0.9667\n",
      "Epoch 3/5\n",
      "1875/1875 [==============================] - 2s 1ms/step - loss: 0.0792 - accuracy: 0.9763\n",
      "Epoch 4/5\n",
      "1875/1875 [==============================] - 2s 1ms/step - loss: 0.0590 - accuracy: 0.9821\n",
      "Epoch 5/5\n",
      "1875/1875 [==============================] - 2s 1ms/step - loss: 0.0459 - accuracy: 0.9859\n",
      "1/1 [==============================] - 0s 45ms/step\n",
      "1/1 [==============================] - 0s 12ms/step\n",
      "Original Image Prediction: 7\n",
      "Adversarial Image Prediction: 3\n",
      "Original Label: 7\n",
      "Adversarial Test Accuracy: 0.03009999915957451\n",
      "Regular Test Accuracy: 0.9742000102996826\n"
     ]
    },
    {
     "data": {
      "image/png": "[encoded data removed]",
      "text/plain": [
       "<Figure size 1000x500 with 2 Axes>"
      ]
     },
     "metadata": {},
     "output_type": "display_data"
    }
   ],
   "source": [
    "import numpy as np\n",
    "import tensorflow as tf\n",
    "from tensorflow.keras.models import Sequential\n",
    "from tensorflow.keras.layers import Dense\n",
    "from tensorflow.keras.datasets import mnist\n",
    "\n",
    "# 1. Load and Preprocess Data\n",
    "(x_train, y_train), (x_test, y_test) = mnist.load_data()\n",
    "x_train = x_train.reshape(60000, 784).astype('float32') / 255\n",
    "x_test = x_test.reshape(10000, 784).astype('float32') / 255\n",
    "\n",
    "# 2. Build a Simple Model\n",
    "model = Sequential([\n",
    "    Dense(128, activation='relu', input_shape=(784,)),\n",
    "    Dense(10, activation='softmax')\n",
    "])\n",
    "\n",
    "model.compile(optimizer='adam',\n",
    "              loss='sparse_categorical_crossentropy',\n",
    "              metrics=['accuracy'])\n",
    "\n",
    "# 3. Train the Model\n",
    "model.fit(x_train, y_train, epochs=5, batch_size=32, verbose=1)\n",
    "\n",
    "# 4. Generate Adversarial Examples (Fast Gradient Sign Method - FGSM)\n",
    "def generate_adversarial_example(model, image, label, epsilon=0.1):\n",
    "    image = tf.convert_to_tensor(image[np.newaxis, :])\n",
    "    label = tf.convert_to_tensor(label)\n",
    "\n",
    "    with tf.GradientTape() as tape:\n",
    "        tape.watch(image)\n",
    "        prediction = model(image)\n",
    "        loss = tf.keras.losses.SparseCategoricalCrossentropy()(label, prediction) #change here\n",
    "\n",
    "    gradient = tape.gradient(loss, image)\n",
    "    signed_grad = tf.sign(gradient)\n",
    "    adversarial_image = image + epsilon * signed_grad\n",
    "    return adversarial_image.numpy().reshape(784)\n",
    "\n",
    "# 5. Create an Adversarial Example\n",
    "sample_image = x_test[0]\n",
    "sample_label = y_test[0]\n",
    "\n",
    "adversarial_example = generate_adversarial_example(model, sample_image, sample_label)\n",
    "\n",
    "# 6. Evaluate the Model on the Adversarial Example\n",
    "original_prediction = model.predict(sample_image[np.newaxis, :])\n",
    "adversarial_prediction = model.predict(adversarial_example[np.newaxis, :])\n",
    "\n",
    "print(f\"Original Image Prediction: {np.argmax(original_prediction)}\")\n",
    "print(f\"Adversarial Image Prediction: {np.argmax(adversarial_prediction)}\")\n",
    "print(f\"Original Label: {sample_label}\")\n",
    "\n",
    "# 7. Evaluate Model Accuracy on Adversarial Test Set.\n",
    "adversarial_test_set = np.array([generate_adversarial_example(model, x, y) for x, y in zip(x_test, y_test)])\n",
    "\n",
    "_, adversarial_accuracy = model.evaluate(adversarial_test_set, y_test, verbose=0)\n",
    "print(f\"Adversarial Test Accuracy: {adversarial_accuracy}\")\n",
    "\n",
    "_, regular_accuracy = model.evaluate(x_test, y_test, verbose=0)\n",
    "print(f\"Regular Test Accuracy: {regular_accuracy}\")\n",
    "\n",
    "# 8. Visualizing the results (optional, requires matplotlib)\n",
    "import matplotlib.pyplot as plt\n",
    "\n",
    "plt.figure(figsize=(10, 5))\n",
    "\n",
    "plt.subplot(1, 2, 1)\n",
    "plt.imshow(sample_image.reshape(28, 28), cmap='gray')\n",
    "plt.title(f\"Original Image (Label: {sample_label})\")\n",
    "\n",
    "plt.subplot(1, 2, 2)\n",
    "plt.imshow(adversarial_example.reshape(28, 28), cmap='gray')\n",
    "plt.title(f\"Adversarial Image (Prediction: {np.argmax(adversarial_prediction)})\")\n",
    "\n",
    "plt.show()\n"
   ]
  },
  {
   "cell_type": "code",
   "execution_count": null,
   "id": "51d3b7e8",
   "metadata": {},
   "outputs": [],
   "source": []
  }
 ],
 "metadata": {
  "kernelspec": {
   "display_name": "Python 3 (ipykernel)",
   "language": "python",
   "name": "python3"
  },
  "language_info": {
   "codemirror_mode": {
    "name": "ipython",
    "version": 3
   },
   "file_extension": ".py",
   "mimetype": "text/x-python",
   "name": "python",
   "nbconvert_exporter": "python",
   "pygments_lexer": "ipython3",
   "version": "3.10.12"
  }
 },
 "nbformat": 4,
 "nbformat_minor": 5
}
