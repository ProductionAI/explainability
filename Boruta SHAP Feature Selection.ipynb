{
 "cells": [
  {
   "cell_type": "markdown",
   "id": "d527f63f",
   "metadata": {},
   "source": [
    "## Boruta SHAP Feature Selection"
   ]
  },
  {
   "cell_type": "markdown",
   "id": "7d5118dc",
   "metadata": {},
   "source": [
    "In this notebook I will explore the use of the Boruta-SHAP Feature Selection Method"
   ]
  },
  {
   "cell_type": "markdown",
   "id": "84aa5d9a",
   "metadata": {},
   "source": [
    "### Imports"
   ]
  },
  {
   "cell_type": "code",
   "execution_count": 1,
   "id": "f4631616",
   "metadata": {},
   "outputs": [],
   "source": [
    "import pandas as pd\n",
    "import numpy as np"
   ]
  },
  {
   "cell_type": "code",
   "execution_count": 2,
   "id": "0a497105",
   "metadata": {
    "tags": []
   },
   "outputs": [],
   "source": [
    "from sklearn.ensemble import RandomForestRegressor\n",
    "from sklearn.model_selection import train_test_split\n",
    "from sklearn.metrics import mean_squared_error as MSE\n",
    "from sklearn.metrics import mean_absolute_error as MAE\n",
    "from sklearn.metrics import r2_score as R2\n",
    "from scipy.special import softmax"
   ]
  },
  {
   "cell_type": "markdown",
   "id": "48a05f5d",
   "metadata": {},
   "source": [
    "### Functions"
   ]
  },
  {
   "cell_type": "code",
   "execution_count": 3,
   "id": "b1c9da91",
   "metadata": {},
   "outputs": [],
   "source": [
    "def print_feature_importances_random_forest(random_forest_model):\n",
    "    \n",
    "    '''\n",
    "    Prints the feature importances of a Random Forest model in an ordered way.\n",
    "    random_forest_model -> The sklearn.ensemble.RandomForestRegressor or RandomForestClassifier trained model\n",
    "    '''\n",
    "    \n",
    "    # Fetch the feature importances and feature names\n",
    "    importances = random_forest_model.feature_importances_\n",
    "    features = random_forest_model.feature_names_in_\n",
    "    \n",
    "    # Organize them in a dictionary\n",
    "    feature_importances = {fea: imp for imp, fea in zip(importances, features)}\n",
    "    \n",
    "    # Sorts the dictionary\n",
    "    feature_importances = {k: v for k, v in sorted(feature_importances.items(), key=lambda item: item[1], reverse = True)}\n",
    "    \n",
    "    # Prints the feature importances\n",
    "    for k, v in feature_importances.items():\n",
    "        print(f\"{k} -> {v:.4f}\")"
   ]
  },
  {
   "cell_type": "code",
   "execution_count": 4,
   "id": "a8e1b814",
   "metadata": {},
   "outputs": [],
   "source": [
    "def print_feature_importances_shap_values(shap_values, features):\n",
    "    \n",
    "    '''\n",
    "    Prints the feature importances based on SHAP values in an ordered way\n",
    "    shap_values -> The SHAP values calculated from a shap.Explainer object\n",
    "    features -> The name of the features, on the order presented to the explainer\n",
    "    '''\n",
    "\n",
    "    # Calculates the feature importance (mean absolute shap value) for each feature\n",
    "    importances = []\n",
    "    for i in range(shap_values.values.shape[1]):\n",
    "        importances.append(np.mean(np.abs(shap_values.values[:, i])))\n",
    "        \n",
    "    # Calculates the normalized version\n",
    "    importances_norm = softmax(importances)\n",
    "\n",
    "    # Organize the importances and columns in a dictionary\n",
    "    feature_importances = {fea: imp for imp, fea in zip(importances, features)}\n",
    "    feature_importances_norm = {fea: imp for imp, fea in zip(importances_norm, features)}\n",
    "\n",
    "    # Sorts the dictionary\n",
    "    feature_importances = {k: v for k, v in sorted(feature_importances.items(), key=lambda item: item[1], reverse = True)}\n",
    "    feature_importances_norm= {k: v for k, v in sorted(feature_importances_norm.items(), key=lambda item: item[1], reverse = True)}\n",
    "\n",
    "    # Prints the feature importances\n",
    "    for k, v in feature_importances.items():\n",
    "        print(f\"{k} -> {v:.4f} (softmax = {feature_importances_norm[k]:.4f})\")"
   ]
  },
  {
   "cell_type": "code",
   "execution_count": 5,
   "id": "69c95b8c",
   "metadata": {},
   "outputs": [],
   "source": [
    "def evaluate_regression(y, y_pred):\n",
    "    \n",
    "    '''\n",
    "    Prints the most common evaluation metrics for regression\n",
    "    '''\n",
    "    \n",
    "    mae = MAE(y, y_pred)\n",
    "    mse = MSE(y, y_pred)\n",
    "    rmse = mse ** (1/2)\n",
    "    r2 = R2(y, y_pred)\n",
    "    \n",
    "    print('Regression result')\n",
    "    print(f\"MAE: {mae:.2f}\")\n",
    "    print(f\"MSE: {mse:.2f}\")\n",
    "    print(f\"RMSE: {rmse:.2f}\")\n",
    "    print(f\"R2: {r2:.2f}\")"
   ]
  },
  {
   "cell_type": "markdown",
   "id": "9038d53c",
   "metadata": {},
   "source": [
    "### Loading the Dataset"
   ]
  },
  {
   "cell_type": "code",
   "execution_count": 6,
   "id": "9ce8b458",
   "metadata": {},
   "outputs": [],
   "source": [
    "from sklearn.datasets import load_diabetes"
   ]
  },
  {
   "cell_type": "code",
   "execution_count": 7,
   "id": "2d5bcdc8",
   "metadata": {},
   "outputs": [],
   "source": [
    "# Fetches the data\n",
    "dataset = load_diabetes(as_frame = True)"
   ]
  },
  {
   "cell_type": "raw",
   "id": "5e62127d",
   "metadata": {},
   "source": [
    "# Prints the description of the dataset\n",
    "print(dataset[\"DESCR\"])"
   ]
  },
  {
   "cell_type": "code",
   "execution_count": 8,
   "id": "1d8ee6d0",
   "metadata": {},
   "outputs": [
    {
     "data": {
      "text/html": [
       "<div>\n",
       "<style scoped>\n",
       "    .dataframe tbody tr th:only-of-type {\n",
       "        vertical-align: middle;\n",
       "    }\n",
       "\n",
       "    .dataframe tbody tr th {\n",
       "        vertical-align: top;\n",
       "    }\n",
       "\n",
       "    .dataframe thead th {\n",
       "        text-align: right;\n",
       "    }\n",
       "</style>\n",
       "<table border=\"1\" class=\"dataframe\">\n",
       "  <thead>\n",
       "    <tr style=\"text-align: right;\">\n",
       "      <th></th>\n",
       "      <th>age</th>\n",
       "      <th>sex</th>\n",
       "      <th>bmi</th>\n",
       "      <th>bp</th>\n",
       "      <th>s1</th>\n",
       "      <th>s2</th>\n",
       "      <th>s3</th>\n",
       "      <th>s4</th>\n",
       "      <th>s5</th>\n",
       "      <th>s6</th>\n",
       "    </tr>\n",
       "  </thead>\n",
       "  <tbody>\n",
       "    <tr>\n",
       "      <th>0</th>\n",
       "      <td>0.038076</td>\n",
       "      <td>0.050680</td>\n",
       "      <td>0.061696</td>\n",
       "      <td>0.021872</td>\n",
       "      <td>-0.044223</td>\n",
       "      <td>-0.034821</td>\n",
       "      <td>-0.043401</td>\n",
       "      <td>-0.002592</td>\n",
       "      <td>0.019907</td>\n",
       "      <td>-0.017646</td>\n",
       "    </tr>\n",
       "    <tr>\n",
       "      <th>1</th>\n",
       "      <td>-0.001882</td>\n",
       "      <td>-0.044642</td>\n",
       "      <td>-0.051474</td>\n",
       "      <td>-0.026328</td>\n",
       "      <td>-0.008449</td>\n",
       "      <td>-0.019163</td>\n",
       "      <td>0.074412</td>\n",
       "      <td>-0.039493</td>\n",
       "      <td>-0.068332</td>\n",
       "      <td>-0.092204</td>\n",
       "    </tr>\n",
       "    <tr>\n",
       "      <th>2</th>\n",
       "      <td>0.085299</td>\n",
       "      <td>0.050680</td>\n",
       "      <td>0.044451</td>\n",
       "      <td>-0.005670</td>\n",
       "      <td>-0.045599</td>\n",
       "      <td>-0.034194</td>\n",
       "      <td>-0.032356</td>\n",
       "      <td>-0.002592</td>\n",
       "      <td>0.002861</td>\n",
       "      <td>-0.025930</td>\n",
       "    </tr>\n",
       "    <tr>\n",
       "      <th>3</th>\n",
       "      <td>-0.089063</td>\n",
       "      <td>-0.044642</td>\n",
       "      <td>-0.011595</td>\n",
       "      <td>-0.036656</td>\n",
       "      <td>0.012191</td>\n",
       "      <td>0.024991</td>\n",
       "      <td>-0.036038</td>\n",
       "      <td>0.034309</td>\n",
       "      <td>0.022688</td>\n",
       "      <td>-0.009362</td>\n",
       "    </tr>\n",
       "    <tr>\n",
       "      <th>4</th>\n",
       "      <td>0.005383</td>\n",
       "      <td>-0.044642</td>\n",
       "      <td>-0.036385</td>\n",
       "      <td>0.021872</td>\n",
       "      <td>0.003935</td>\n",
       "      <td>0.015596</td>\n",
       "      <td>0.008142</td>\n",
       "      <td>-0.002592</td>\n",
       "      <td>-0.031988</td>\n",
       "      <td>-0.046641</td>\n",
       "    </tr>\n",
       "  </tbody>\n",
       "</table>\n",
       "</div>"
      ],
      "text/plain": [
       "        age       sex       bmi        bp        s1        s2        s3  \\\n",
       "0  0.038076  0.050680  0.061696  0.021872 -0.044223 -0.034821 -0.043401   \n",
       "1 -0.001882 -0.044642 -0.051474 -0.026328 -0.008449 -0.019163  0.074412   \n",
       "2  0.085299  0.050680  0.044451 -0.005670 -0.045599 -0.034194 -0.032356   \n",
       "3 -0.089063 -0.044642 -0.011595 -0.036656  0.012191  0.024991 -0.036038   \n",
       "4  0.005383 -0.044642 -0.036385  0.021872  0.003935  0.015596  0.008142   \n",
       "\n",
       "         s4        s5        s6  \n",
       "0 -0.002592  0.019907 -0.017646  \n",
       "1 -0.039493 -0.068332 -0.092204  \n",
       "2 -0.002592  0.002861 -0.025930  \n",
       "3  0.034309  0.022688 -0.009362  \n",
       "4 -0.002592 -0.031988 -0.046641  "
      ]
     },
     "execution_count": 8,
     "metadata": {},
     "output_type": "execute_result"
    }
   ],
   "source": [
    "# Gets the independent variables\n",
    "X = dataset['data']\n",
    "X.head(5)"
   ]
  },
  {
   "cell_type": "code",
   "execution_count": 9,
   "id": "4b5a70d7",
   "metadata": {},
   "outputs": [
    {
     "data": {
      "text/plain": [
       "(442, 10)"
      ]
     },
     "execution_count": 9,
     "metadata": {},
     "output_type": "execute_result"
    }
   ],
   "source": [
    "# Checks the shape of the data\n",
    "X.shape"
   ]
  },
  {
   "cell_type": "code",
   "execution_count": 10,
   "id": "bb762dfc",
   "metadata": {},
   "outputs": [
    {
     "data": {
      "text/plain": [
       "0    151.0\n",
       "1     75.0\n",
       "2    141.0\n",
       "3    206.0\n",
       "4    135.0\n",
       "Name: target, dtype: float64"
      ]
     },
     "execution_count": 10,
     "metadata": {},
     "output_type": "execute_result"
    }
   ],
   "source": [
    "# Gets the dependent variable (the target)\n",
    "y = dataset['target']\n",
    "y.head(5)"
   ]
  },
  {
   "cell_type": "code",
   "execution_count": 11,
   "id": "afbef866",
   "metadata": {},
   "outputs": [],
   "source": [
    "# Splits the dataset\n",
    "X_train, X_test, y_train, y_test = train_test_split(X, y, test_size = 0.2)"
   ]
  },
  {
   "cell_type": "markdown",
   "id": "9d27c379",
   "metadata": {},
   "source": [
    "## Fit a simple regression"
   ]
  },
  {
   "cell_type": "markdown",
   "id": "a564b204",
   "metadata": {},
   "source": [
    "In order to compare results before and after applying Boruta Shap feature selection, we will fisrt run a simple regression"
   ]
  },
  {
   "cell_type": "code",
   "execution_count": 12,
   "id": "4ee95880",
   "metadata": {},
   "outputs": [],
   "source": [
    "# Prepares a default instance of the random forest regressor\n",
    "model = RandomForestRegressor()"
   ]
  },
  {
   "cell_type": "code",
   "execution_count": 13,
   "id": "db42c1df",
   "metadata": {
    "tags": []
   },
   "outputs": [
    {
     "data": {
      "text/html": [
       "<style>#sk-container-id-1 {color: black;background-color: white;}#sk-container-id-1 pre{padding: 0;}#sk-container-id-1 div.sk-toggleable {background-color: white;}#sk-container-id-1 label.sk-toggleable__label {cursor: pointer;display: block;width: 100%;margin-bottom: 0;padding: 0.3em;box-sizing: border-box;text-align: center;}#sk-container-id-1 label.sk-toggleable__label-arrow:before {content: \"▸\";float: left;margin-right: 0.25em;color: #696969;}#sk-container-id-1 label.sk-toggleable__label-arrow:hover:before {color: black;}#sk-container-id-1 div.sk-estimator:hover label.sk-toggleable__label-arrow:before {color: black;}#sk-container-id-1 div.sk-toggleable__content {max-height: 0;max-width: 0;overflow: hidden;text-align: left;background-color: #f0f8ff;}#sk-container-id-1 div.sk-toggleable__content pre {margin: 0.2em;color: black;border-radius: 0.25em;background-color: #f0f8ff;}#sk-container-id-1 input.sk-toggleable__control:checked~div.sk-toggleable__content {max-height: 200px;max-width: 100%;overflow: auto;}#sk-container-id-1 input.sk-toggleable__control:checked~label.sk-toggleable__label-arrow:before {content: \"▾\";}#sk-container-id-1 div.sk-estimator input.sk-toggleable__control:checked~label.sk-toggleable__label {background-color: #d4ebff;}#sk-container-id-1 div.sk-label input.sk-toggleable__control:checked~label.sk-toggleable__label {background-color: #d4ebff;}#sk-container-id-1 input.sk-hidden--visually {border: 0;clip: rect(1px 1px 1px 1px);clip: rect(1px, 1px, 1px, 1px);height: 1px;margin: -1px;overflow: hidden;padding: 0;position: absolute;width: 1px;}#sk-container-id-1 div.sk-estimator {font-family: monospace;background-color: #f0f8ff;border: 1px dotted black;border-radius: 0.25em;box-sizing: border-box;margin-bottom: 0.5em;}#sk-container-id-1 div.sk-estimator:hover {background-color: #d4ebff;}#sk-container-id-1 div.sk-parallel-item::after {content: \"\";width: 100%;border-bottom: 1px solid gray;flex-grow: 1;}#sk-container-id-1 div.sk-label:hover label.sk-toggleable__label {background-color: #d4ebff;}#sk-container-id-1 div.sk-serial::before {content: \"\";position: absolute;border-left: 1px solid gray;box-sizing: border-box;top: 0;bottom: 0;left: 50%;z-index: 0;}#sk-container-id-1 div.sk-serial {display: flex;flex-direction: column;align-items: center;background-color: white;padding-right: 0.2em;padding-left: 0.2em;position: relative;}#sk-container-id-1 div.sk-item {position: relative;z-index: 1;}#sk-container-id-1 div.sk-parallel {display: flex;align-items: stretch;justify-content: center;background-color: white;position: relative;}#sk-container-id-1 div.sk-item::before, #sk-container-id-1 div.sk-parallel-item::before {content: \"\";position: absolute;border-left: 1px solid gray;box-sizing: border-box;top: 0;bottom: 0;left: 50%;z-index: -1;}#sk-container-id-1 div.sk-parallel-item {display: flex;flex-direction: column;z-index: 1;position: relative;background-color: white;}#sk-container-id-1 div.sk-parallel-item:first-child::after {align-self: flex-end;width: 50%;}#sk-container-id-1 div.sk-parallel-item:last-child::after {align-self: flex-start;width: 50%;}#sk-container-id-1 div.sk-parallel-item:only-child::after {width: 0;}#sk-container-id-1 div.sk-dashed-wrapped {border: 1px dashed gray;margin: 0 0.4em 0.5em 0.4em;box-sizing: border-box;padding-bottom: 0.4em;background-color: white;}#sk-container-id-1 div.sk-label label {font-family: monospace;font-weight: bold;display: inline-block;line-height: 1.2em;}#sk-container-id-1 div.sk-label-container {text-align: center;}#sk-container-id-1 div.sk-container {/* jupyter's `normalize.less` sets `[hidden] { display: none; }` but bootstrap.min.css set `[hidden] { display: none !important; }` so we also need the `!important` here to be able to override the default hidden behavior on the sphinx rendered scikit-learn.org. See: https://github.com/scikit-learn/scikit-learn/issues/21755 */display: inline-block !important;position: relative;}#sk-container-id-1 div.sk-text-repr-fallback {display: none;}</style><div id=\"sk-container-id-1\" class=\"sk-top-container\"><div class=\"sk-text-repr-fallback\"><pre>RandomForestRegressor()</pre><b>In a Jupyter environment, please rerun this cell to show the HTML representation or trust the notebook. <br />On GitHub, the HTML representation is unable to render, please try loading this page with nbviewer.org.</b></div><div class=\"sk-container\" hidden><div class=\"sk-item\"><div class=\"sk-estimator sk-toggleable\"><input class=\"sk-toggleable__control sk-hidden--visually\" id=\"sk-estimator-id-1\" type=\"checkbox\" checked><label for=\"sk-estimator-id-1\" class=\"sk-toggleable__label sk-toggleable__label-arrow\">RandomForestRegressor</label><div class=\"sk-toggleable__content\"><pre>RandomForestRegressor()</pre></div></div></div></div></div>"
      ],
      "text/plain": [
       "RandomForestRegressor()"
      ]
     },
     "execution_count": 13,
     "metadata": {},
     "output_type": "execute_result"
    }
   ],
   "source": [
    "# Fits the model on the training data\n",
    "model.fit(X_train, y_train)"
   ]
  },
  {
   "cell_type": "code",
   "execution_count": 14,
   "id": "5da78ac7",
   "metadata": {},
   "outputs": [
    {
     "name": "stdout",
     "output_type": "stream",
     "text": [
      "Regression result\n",
      "MAE: 47.63\n",
      "MSE: 3304.41\n",
      "RMSE: 57.48\n",
      "R2: 0.48\n"
     ]
    }
   ],
   "source": [
    "# Evaluates the model\n",
    "y_pred = model.predict(X_test)\n",
    "evaluate_regression(y_test, y_pred)"
   ]
  },
  {
   "cell_type": "code",
   "execution_count": 15,
   "id": "80590416",
   "metadata": {},
   "outputs": [
    {
     "name": "stdout",
     "output_type": "stream",
     "text": [
      "s5 -> 0.2919\n",
      "bmi -> 0.2696\n",
      "bp -> 0.1065\n",
      "s6 -> 0.0761\n",
      "age -> 0.0636\n",
      "s2 -> 0.0564\n",
      "s1 -> 0.0528\n",
      "s3 -> 0.0518\n",
      "s4 -> 0.0191\n",
      "sex -> 0.0122\n"
     ]
    }
   ],
   "source": [
    "# Prints the feature importances\n",
    "print_feature_importances_random_forest(model)"
   ]
  },
  {
   "cell_type": "markdown",
   "id": "0d5adcdf",
   "metadata": {},
   "source": [
    "## SHAP evaluation"
   ]
  },
  {
   "cell_type": "code",
   "execution_count": 16,
   "id": "1b7af873",
   "metadata": {},
   "outputs": [
    {
     "name": "stderr",
     "output_type": "stream",
     "text": [
      "/usr/local/lib/python3.10/dist-packages/tqdm/auto.py:21: TqdmWarning: IProgress not found. Please update jupyter and ipywidgets. See https://ipywidgets.readthedocs.io/en/stable/user_install.html\n",
      "  from .autonotebook import tqdm as notebook_tqdm\n"
     ]
    }
   ],
   "source": [
    "import shap"
   ]
  },
  {
   "cell_type": "code",
   "execution_count": 17,
   "id": "968e7953",
   "metadata": {},
   "outputs": [],
   "source": [
    "# Fits the explainer\n",
    "explainer = shap.Explainer(model.predict, X)"
   ]
  },
  {
   "cell_type": "code",
   "execution_count": 18,
   "id": "3eab9c0b",
   "metadata": {
    "tags": []
   },
   "outputs": [
    {
     "name": "stderr",
     "output_type": "stream",
     "text": [
      "ExactExplainer explainer: 90it [00:37,  1.95it/s]                                                                                                                                                                      \n"
     ]
    }
   ],
   "source": [
    "# Calculates the SHAP values - It takes some time\n",
    "shap_values = explainer(X_test)"
   ]
  },
  {
   "cell_type": "code",
   "execution_count": 19,
   "id": "81264bf7",
   "metadata": {},
   "outputs": [
    {
     "name": "stdout",
     "output_type": "stream",
     "text": [
      "s5 -> 23.0020 (softmax = 0.9005)\n",
      "bmi -> 20.7992 (softmax = 0.0995)\n",
      "bp -> 12.4361 (softmax = 0.0000)\n",
      "s3 -> 4.2843 (softmax = 0.0000)\n",
      "s6 -> 4.2396 (softmax = 0.0000)\n",
      "age -> 3.2362 (softmax = 0.0000)\n",
      "s1 -> 2.5123 (softmax = 0.0000)\n",
      "s2 -> 2.2969 (softmax = 0.0000)\n",
      "sex -> 2.2661 (softmax = 0.0000)\n",
      "s4 -> 1.5060 (softmax = 0.0000)\n"
     ]
    }
   ],
   "source": [
    "# Prints the SHAP feature importances\n",
    "print_feature_importances_shap_values(shap_values, X.columns)"
   ]
  },
  {
   "cell_type": "code",
   "execution_count": 20,
   "id": "66bc2c76",
   "metadata": {},
   "outputs": [
    {
     "data": {
      "image/png": "[encoded data removed]",
      "text/plain": [
       "<Figure size 800x650 with 1 Axes>"
      ]
     },
     "metadata": {},
     "output_type": "display_data"
    }
   ],
   "source": [
    "# Plots this view\n",
    "shap.plots.bar(shap_values)"
   ]
  },
  {
   "cell_type": "code",
   "execution_count": 21,
   "id": "a22a0f15",
   "metadata": {},
   "outputs": [
    {
     "data": {
      "image/png": "[encoded data removed]",
      "text/plain": [
       "<Figure size 800x550 with 2 Axes>"
      ]
     },
     "metadata": {},
     "output_type": "display_data"
    }
   ],
   "source": [
    "# Plots the beeswarm\n",
    "shap.plots.beeswarm(shap_values)"
   ]
  },
  {
   "cell_type": "markdown",
   "id": "0179d57e",
   "metadata": {},
   "source": [
    "## Select features using Boruta"
   ]
  },
  {
   "cell_type": "code",
   "execution_count": 23,
   "id": "2e153c9e",
   "metadata": {},
   "outputs": [],
   "source": [
    "from boruta import BorutaPy"
   ]
  },
  {
   "cell_type": "code",
   "execution_count": 24,
   "id": "dccc447c",
   "metadata": {
    "tags": []
   },
   "outputs": [],
   "source": [
    "# Defines the estimator used by the Boruta algorithm\n",
    "estimator = RandomForestRegressor()"
   ]
  },
  {
   "cell_type": "code",
   "execution_count": 25,
   "id": "5b5953be",
   "metadata": {},
   "outputs": [],
   "source": [
    "# Creates the BorutaPy object\n",
    "boruta = BorutaPy(estimator = estimator, n_estimators = 'auto', max_iter = 100)"
   ]
  },
  {
   "cell_type": "code",
   "execution_count": 26,
   "id": "f96e2a80",
   "metadata": {
    "tags": []
   },
   "outputs": [
    {
     "data": {
      "text/html": [
       "<style>#sk-container-id-2 {color: black;background-color: white;}#sk-container-id-2 pre{padding: 0;}#sk-container-id-2 div.sk-toggleable {background-color: white;}#sk-container-id-2 label.sk-toggleable__label {cursor: pointer;display: block;width: 100%;margin-bottom: 0;padding: 0.3em;box-sizing: border-box;text-align: center;}#sk-container-id-2 label.sk-toggleable__label-arrow:before {content: \"▸\";float: left;margin-right: 0.25em;color: #696969;}#sk-container-id-2 label.sk-toggleable__label-arrow:hover:before {color: black;}#sk-container-id-2 div.sk-estimator:hover label.sk-toggleable__label-arrow:before {color: black;}#sk-container-id-2 div.sk-toggleable__content {max-height: 0;max-width: 0;overflow: hidden;text-align: left;background-color: #f0f8ff;}#sk-container-id-2 div.sk-toggleable__content pre {margin: 0.2em;color: black;border-radius: 0.25em;background-color: #f0f8ff;}#sk-container-id-2 input.sk-toggleable__control:checked~div.sk-toggleable__content {max-height: 200px;max-width: 100%;overflow: auto;}#sk-container-id-2 input.sk-toggleable__control:checked~label.sk-toggleable__label-arrow:before {content: \"▾\";}#sk-container-id-2 div.sk-estimator input.sk-toggleable__control:checked~label.sk-toggleable__label {background-color: #d4ebff;}#sk-container-id-2 div.sk-label input.sk-toggleable__control:checked~label.sk-toggleable__label {background-color: #d4ebff;}#sk-container-id-2 input.sk-hidden--visually {border: 0;clip: rect(1px 1px 1px 1px);clip: rect(1px, 1px, 1px, 1px);height: 1px;margin: -1px;overflow: hidden;padding: 0;position: absolute;width: 1px;}#sk-container-id-2 div.sk-estimator {font-family: monospace;background-color: #f0f8ff;border: 1px dotted black;border-radius: 0.25em;box-sizing: border-box;margin-bottom: 0.5em;}#sk-container-id-2 div.sk-estimator:hover {background-color: #d4ebff;}#sk-container-id-2 div.sk-parallel-item::after {content: \"\";width: 100%;border-bottom: 1px solid gray;flex-grow: 1;}#sk-container-id-2 div.sk-label:hover label.sk-toggleable__label {background-color: #d4ebff;}#sk-container-id-2 div.sk-serial::before {content: \"\";position: absolute;border-left: 1px solid gray;box-sizing: border-box;top: 0;bottom: 0;left: 50%;z-index: 0;}#sk-container-id-2 div.sk-serial {display: flex;flex-direction: column;align-items: center;background-color: white;padding-right: 0.2em;padding-left: 0.2em;position: relative;}#sk-container-id-2 div.sk-item {position: relative;z-index: 1;}#sk-container-id-2 div.sk-parallel {display: flex;align-items: stretch;justify-content: center;background-color: white;position: relative;}#sk-container-id-2 div.sk-item::before, #sk-container-id-2 div.sk-parallel-item::before {content: \"\";position: absolute;border-left: 1px solid gray;box-sizing: border-box;top: 0;bottom: 0;left: 50%;z-index: -1;}#sk-container-id-2 div.sk-parallel-item {display: flex;flex-direction: column;z-index: 1;position: relative;background-color: white;}#sk-container-id-2 div.sk-parallel-item:first-child::after {align-self: flex-end;width: 50%;}#sk-container-id-2 div.sk-parallel-item:last-child::after {align-self: flex-start;width: 50%;}#sk-container-id-2 div.sk-parallel-item:only-child::after {width: 0;}#sk-container-id-2 div.sk-dashed-wrapped {border: 1px dashed gray;margin: 0 0.4em 0.5em 0.4em;box-sizing: border-box;padding-bottom: 0.4em;background-color: white;}#sk-container-id-2 div.sk-label label {font-family: monospace;font-weight: bold;display: inline-block;line-height: 1.2em;}#sk-container-id-2 div.sk-label-container {text-align: center;}#sk-container-id-2 div.sk-container {/* jupyter's `normalize.less` sets `[hidden] { display: none; }` but bootstrap.min.css set `[hidden] { display: none !important; }` so we also need the `!important` here to be able to override the default hidden behavior on the sphinx rendered scikit-learn.org. See: https://github.com/scikit-learn/scikit-learn/issues/21755 */display: inline-block !important;position: relative;}#sk-container-id-2 div.sk-text-repr-fallback {display: none;}</style><div id=\"sk-container-id-2\" class=\"sk-top-container\"><div class=\"sk-text-repr-fallback\"><pre>BorutaPy(estimator=RandomForestRegressor(n_estimators=44,\n",
       "                                         random_state=RandomState(MT19937) at 0x7FAF700F5D40),\n",
       "         n_estimators=&#x27;auto&#x27;,\n",
       "         random_state=RandomState(MT19937) at 0x7FAF700F5D40)</pre><b>In a Jupyter environment, please rerun this cell to show the HTML representation or trust the notebook. <br />On GitHub, the HTML representation is unable to render, please try loading this page with nbviewer.org.</b></div><div class=\"sk-container\" hidden><div class=\"sk-item sk-dashed-wrapped\"><div class=\"sk-label-container\"><div class=\"sk-label sk-toggleable\"><input class=\"sk-toggleable__control sk-hidden--visually\" id=\"sk-estimator-id-2\" type=\"checkbox\" ><label for=\"sk-estimator-id-2\" class=\"sk-toggleable__label sk-toggleable__label-arrow\">BorutaPy</label><div class=\"sk-toggleable__content\"><pre>BorutaPy(estimator=RandomForestRegressor(n_estimators=44,\n",
       "                                         random_state=RandomState(MT19937) at 0x7FAF700F5D40),\n",
       "         n_estimators=&#x27;auto&#x27;,\n",
       "         random_state=RandomState(MT19937) at 0x7FAF700F5D40)</pre></div></div></div><div class=\"sk-parallel\"><div class=\"sk-parallel-item\"><div class=\"sk-item\"><div class=\"sk-label-container\"><div class=\"sk-label sk-toggleable\"><input class=\"sk-toggleable__control sk-hidden--visually\" id=\"sk-estimator-id-3\" type=\"checkbox\" ><label for=\"sk-estimator-id-3\" class=\"sk-toggleable__label sk-toggleable__label-arrow\">estimator: RandomForestRegressor</label><div class=\"sk-toggleable__content\"><pre>RandomForestRegressor(n_estimators=44,\n",
       "                      random_state=RandomState(MT19937) at 0x7FAF700F5D40)</pre></div></div></div><div class=\"sk-serial\"><div class=\"sk-item\"><div class=\"sk-estimator sk-toggleable\"><input class=\"sk-toggleable__control sk-hidden--visually\" id=\"sk-estimator-id-4\" type=\"checkbox\" ><label for=\"sk-estimator-id-4\" class=\"sk-toggleable__label sk-toggleable__label-arrow\">RandomForestRegressor</label><div class=\"sk-toggleable__content\"><pre>RandomForestRegressor(n_estimators=44,\n",
       "                      random_state=RandomState(MT19937) at 0x7FAF700F5D40)</pre></div></div></div></div></div></div></div></div></div></div>"
      ],
      "text/plain": [
       "BorutaPy(estimator=RandomForestRegressor(n_estimators=44,\n",
       "                                         random_state=RandomState(MT19937) at 0x7FAF700F5D40),\n",
       "         n_estimators='auto',\n",
       "         random_state=RandomState(MT19937) at 0x7FAF700F5D40)"
      ]
     },
     "execution_count": 26,
     "metadata": {},
     "output_type": "execute_result"
    }
   ],
   "source": [
    "# Fits Boruta\n",
    "boruta.fit(np.array(X_train), np.array(y_train))"
   ]
  },
  {
   "cell_type": "code",
   "execution_count": 27,
   "id": "c4d0eafe",
   "metadata": {
    "tags": []
   },
   "outputs": [
    {
     "name": "stdout",
     "output_type": "stream",
     "text": [
      "Features confirmed as important: ['bmi', 'bp', 's5', 's6']\n",
      "Unconfirmed features (tentative): []\n",
      "Features confirmed as unimportant: ['age', 'sex', 's1', 's2', 's3', 's4']\n"
     ]
    }
   ],
   "source": [
    "# Important features\n",
    "important = list(X.columns[boruta.support_])\n",
    "print(f\"Features confirmed as important: {important}\")\n",
    "\n",
    "# Tentative features\n",
    "tentative = list(X.columns[boruta.support_weak_])\n",
    "print(f\"Unconfirmed features (tentative): {tentative}\")\n",
    "\n",
    "# Unimportant features\n",
    "unimportant = list(X.columns[~(boruta.support_ | boruta.support_weak_)])\n",
    "print(f\"Features confirmed as unimportant: {unimportant}\")"
   ]
  },
  {
   "cell_type": "code",
   "execution_count": 28,
   "id": "085a2933",
   "metadata": {
    "tags": []
   },
   "outputs": [],
   "source": [
    "X_train_boruta = boruta.transform(np.array(X_train))"
   ]
  },
  {
   "cell_type": "code",
   "execution_count": 29,
   "id": "aba6a445",
   "metadata": {
    "tags": []
   },
   "outputs": [
    {
     "data": {
      "text/plain": [
       "array([[-0.04177375, -0.01944183,  0.00114758, -0.03007245],\n",
       "       [ 0.08109682,  0.02187239,  0.03243232,  0.04862759],\n",
       "       [-0.00405033, -0.01255612,  0.08449153, -0.01764613],\n",
       "       ...,\n",
       "       [ 0.07139652,  0.09761511,  0.07142887,  0.02377494],\n",
       "       [-0.00836158, -0.05731319, -0.08023652, -0.01764613],\n",
       "       [-0.00081689, -0.02632753, -0.03581619,  0.01963284]])"
      ]
     },
     "execution_count": 29,
     "metadata": {},
     "output_type": "execute_result"
    }
   ],
   "source": [
    "X_train_boruta"
   ]
  },
  {
   "cell_type": "markdown",
   "id": "1b8a6606",
   "metadata": {
    "tags": []
   },
   "source": [
    "## Select features using Boruta-SHAP"
   ]
  },
  {
   "cell_type": "code",
   "execution_count": null,
   "id": "39e4eea5",
   "metadata": {},
   "outputs": [],
   "source": [
    "from BorutaShap import BorutaShap"
   ]
  },
  {
   "cell_type": "code",
   "execution_count": 30,
   "id": "4f319799",
   "metadata": {
    "execution": {
     "iopub.execute_input": "2022-01-22T17:10:33.017709Z",
     "iopub.status.busy": "2022-01-22T17:10:33.017709Z",
     "iopub.status.idle": "2022-01-22T17:10:33.031671Z",
     "shell.execute_reply": "2022-01-22T17:10:33.031671Z",
     "shell.execute_reply.started": "2022-01-22T17:10:33.017709Z"
    }
   },
   "outputs": [],
   "source": [
    "# Creates a BorutaShap selector for regression\n",
    "selector = BorutaShap(importance_measure = 'shap', classification = False)"
   ]
  },
  {
   "cell_type": "code",
   "execution_count": 31,
   "id": "303eeaf1",
   "metadata": {
    "execution": {
     "iopub.execute_input": "2022-01-22T17:10:33.032669Z",
     "iopub.status.busy": "2022-01-22T17:10:33.032669Z",
     "iopub.status.idle": "2022-01-22T17:13:00.644383Z",
     "shell.execute_reply": "2022-01-22T17:13:00.644383Z",
     "shell.execute_reply.started": "2022-01-22T17:10:33.032669Z"
    },
    "tags": []
   },
   "outputs": [
    {
     "data": {
      "application/vnd.jupyter.widget-view+json": {
       "model_id": "63110f397ae046818213ebf4b7bef591",
       "version_major": 2,
       "version_minor": 0
      },
      "text/plain": [
       "  0%|          | 0/100 [00:00<?, ?it/s]"
      ]
     },
     "metadata": {},
     "output_type": "display_data"
    },
    {
     "name": "stdout",
     "output_type": "stream",
     "text": [
      "4 attributes confirmed important: ['bmi', 'bp', 's3', 's5']\n",
      "5 attributes confirmed unimportant: ['s1', 's4', 'sex', 'age', 's2']\n",
      "1 tentative attributes remains: ['s6']\n"
     ]
    }
   ],
   "source": [
    "# Fits the selector\n",
    "selector.fit(X = X_train, y = y_train, n_trials = 100, sample = False, verbose = True)\n",
    "# n_trials -> number of iterations for Boruta algorithm\n",
    "# sample -> samples the data so it goes faster"
   ]
  },
  {
   "cell_type": "code",
   "execution_count": 32,
   "id": "e584970f",
   "metadata": {
    "execution": {
     "iopub.execute_input": "2022-01-22T17:13:00.645420Z",
     "iopub.status.busy": "2022-01-22T17:13:00.645420Z",
     "iopub.status.idle": "2022-01-22T17:13:00.660371Z",
     "shell.execute_reply": "2022-01-22T17:13:00.660371Z",
     "shell.execute_reply.started": "2022-01-22T17:13:00.645420Z"
    },
    "tags": []
   },
   "outputs": [
    {
     "name": "stdout",
     "output_type": "stream",
     "text": [
      "['age' 'sex' 's1' 's2' 's4']\n"
     ]
    }
   ],
   "source": [
    "# Display features to be removed\n",
    "features_to_remove = selector.features_to_remove\n",
    "print(features_to_remove)"
   ]
  },
  {
   "cell_type": "code",
   "execution_count": 33,
   "id": "37631330",
   "metadata": {
    "execution": {
     "iopub.execute_input": "2022-01-22T17:13:00.661338Z",
     "iopub.status.busy": "2022-01-22T17:13:00.661338Z",
     "iopub.status.idle": "2022-01-22T17:13:00.676325Z",
     "shell.execute_reply": "2022-01-22T17:13:00.676325Z",
     "shell.execute_reply.started": "2022-01-22T17:13:00.661338Z"
    },
    "tags": []
   },
   "outputs": [],
   "source": [
    "# Removes them\n",
    "X_train_boruta_shap = X_train.drop(columns = features_to_remove)\n",
    "X_test_boruta_shap = X_test.drop(columns = features_to_remove)"
   ]
  },
  {
   "cell_type": "code",
   "execution_count": 34,
   "id": "e2b12e91",
   "metadata": {
    "execution": {
     "iopub.execute_input": "2022-01-22T17:13:00.677295Z",
     "iopub.status.busy": "2022-01-22T17:13:00.677295Z",
     "iopub.status.idle": "2022-01-22T17:13:00.692286Z",
     "shell.execute_reply": "2022-01-22T17:13:00.692286Z",
     "shell.execute_reply.started": "2022-01-22T17:13:00.677295Z"
    },
    "tags": []
   },
   "outputs": [
    {
     "data": {
      "text/html": [
       "<div>\n",
       "<style scoped>\n",
       "    .dataframe tbody tr th:only-of-type {\n",
       "        vertical-align: middle;\n",
       "    }\n",
       "\n",
       "    .dataframe tbody tr th {\n",
       "        vertical-align: top;\n",
       "    }\n",
       "\n",
       "    .dataframe thead th {\n",
       "        text-align: right;\n",
       "    }\n",
       "</style>\n",
       "<table border=\"1\" class=\"dataframe\">\n",
       "  <thead>\n",
       "    <tr style=\"text-align: right;\">\n",
       "      <th></th>\n",
       "      <th>bmi</th>\n",
       "      <th>bp</th>\n",
       "      <th>s3</th>\n",
       "      <th>s5</th>\n",
       "      <th>s6</th>\n",
       "    </tr>\n",
       "  </thead>\n",
       "  <tbody>\n",
       "    <tr>\n",
       "      <th>390</th>\n",
       "      <td>0.069241</td>\n",
       "      <td>0.059744</td>\n",
       "      <td>-0.047082</td>\n",
       "      <td>0.103292</td>\n",
       "      <td>0.073480</td>\n",
       "    </tr>\n",
       "    <tr>\n",
       "      <th>0</th>\n",
       "      <td>0.061696</td>\n",
       "      <td>0.021872</td>\n",
       "      <td>-0.043401</td>\n",
       "      <td>0.019908</td>\n",
       "      <td>-0.017646</td>\n",
       "    </tr>\n",
       "    <tr>\n",
       "      <th>98</th>\n",
       "      <td>-0.005128</td>\n",
       "      <td>-0.012556</td>\n",
       "      <td>0.008142</td>\n",
       "      <td>-0.006080</td>\n",
       "      <td>-0.067351</td>\n",
       "    </tr>\n",
       "    <tr>\n",
       "      <th>279</th>\n",
       "      <td>-0.024529</td>\n",
       "      <td>0.004658</td>\n",
       "      <td>0.015505</td>\n",
       "      <td>-0.015998</td>\n",
       "      <td>-0.025930</td>\n",
       "    </tr>\n",
       "    <tr>\n",
       "      <th>100</th>\n",
       "      <td>0.017506</td>\n",
       "      <td>-0.022885</td>\n",
       "      <td>0.030232</td>\n",
       "      <td>0.037232</td>\n",
       "      <td>-0.001078</td>\n",
       "    </tr>\n",
       "  </tbody>\n",
       "</table>\n",
       "</div>"
      ],
      "text/plain": [
       "          bmi        bp        s3        s5        s6\n",
       "390  0.069241  0.059744 -0.047082  0.103292  0.073480\n",
       "0    0.061696  0.021872 -0.043401  0.019908 -0.017646\n",
       "98  -0.005128 -0.012556  0.008142 -0.006080 -0.067351\n",
       "279 -0.024529  0.004658  0.015505 -0.015998 -0.025930\n",
       "100  0.017506 -0.022885  0.030232  0.037232 -0.001078"
      ]
     },
     "execution_count": 34,
     "metadata": {},
     "output_type": "execute_result"
    }
   ],
   "source": [
    "X_train_boruta_shap.head()"
   ]
  },
  {
   "cell_type": "markdown",
   "id": "f03194e8",
   "metadata": {
    "tags": []
   },
   "source": [
    "### Fits a new regression model to the new data"
   ]
  },
  {
   "cell_type": "code",
   "execution_count": 35,
   "id": "e5c1b237",
   "metadata": {
    "execution": {
     "iopub.execute_input": "2022-01-22T17:13:00.693252Z",
     "iopub.status.busy": "2022-01-22T17:13:00.693252Z",
     "iopub.status.idle": "2022-01-22T17:13:00.708212Z",
     "shell.execute_reply": "2022-01-22T17:13:00.707242Z",
     "shell.execute_reply.started": "2022-01-22T17:13:00.693252Z"
    },
    "tags": []
   },
   "outputs": [],
   "source": [
    "# Prepares a default instance of the random forest regressor\n",
    "model_new = RandomForestRegressor()"
   ]
  },
  {
   "cell_type": "code",
   "execution_count": 36,
   "id": "ab0babb0",
   "metadata": {
    "execution": {
     "iopub.execute_input": "2022-01-22T17:13:00.708212Z",
     "iopub.status.busy": "2022-01-22T17:13:00.708212Z",
     "iopub.status.idle": "2022-01-22T17:13:00.861802Z",
     "shell.execute_reply": "2022-01-22T17:13:00.861802Z",
     "shell.execute_reply.started": "2022-01-22T17:13:00.708212Z"
    },
    "tags": []
   },
   "outputs": [
    {
     "data": {
      "text/plain": [
       "RandomForestRegressor()"
      ]
     },
     "execution_count": 36,
     "metadata": {},
     "output_type": "execute_result"
    }
   ],
   "source": [
    "# Fits the model on the data\n",
    "model_new.fit(X_train_boruta_shap, y_train)"
   ]
  },
  {
   "cell_type": "code",
   "execution_count": 37,
   "id": "4b361db9",
   "metadata": {
    "execution": {
     "iopub.execute_input": "2022-01-22T17:13:00.862799Z",
     "iopub.status.busy": "2022-01-22T17:13:00.862799Z",
     "iopub.status.idle": "2022-01-22T17:13:00.893716Z",
     "shell.execute_reply": "2022-01-22T17:13:00.893716Z",
     "shell.execute_reply.started": "2022-01-22T17:13:00.862799Z"
    },
    "tags": []
   },
   "outputs": [
    {
     "name": "stdout",
     "output_type": "stream",
     "text": [
      "Regression result\n",
      "MAE: 45.52\n",
      "MSE: 3324.71\n",
      "RMSE: 57.66\n",
      "R2: 0.44\n"
     ]
    }
   ],
   "source": [
    "# Evaluates the model\n",
    "y_pred = model_new.predict(X_test_boruta_shap)\n",
    "evaluate_regression(y_test, y_pred)"
   ]
  },
  {
   "cell_type": "code",
   "execution_count": 38,
   "id": "fde8bd2e",
   "metadata": {
    "execution": {
     "iopub.execute_input": "2022-01-22T17:13:00.894714Z",
     "iopub.status.busy": "2022-01-22T17:13:00.894714Z",
     "iopub.status.idle": "2022-01-22T17:13:00.909674Z",
     "shell.execute_reply": "2022-01-22T17:13:00.909674Z",
     "shell.execute_reply.started": "2022-01-22T17:13:00.894714Z"
    },
    "tags": []
   },
   "outputs": [
    {
     "name": "stdout",
     "output_type": "stream",
     "text": [
      "s5 -> 0.4153\n",
      "bmi -> 0.2435\n",
      "bp -> 0.1335\n",
      "s6 -> 0.1067\n",
      "s3 -> 0.1010\n"
     ]
    }
   ],
   "source": [
    "# Prints the feature importances\n",
    "print_feature_importances_random_forest(model_new)"
   ]
  },
  {
   "cell_type": "code",
   "execution_count": 39,
   "id": "6fe03a85",
   "metadata": {
    "execution": {
     "iopub.execute_input": "2022-01-22T17:13:00.910671Z",
     "iopub.status.busy": "2022-01-22T17:13:00.910671Z",
     "iopub.status.idle": "2022-01-22T17:13:00.927626Z",
     "shell.execute_reply": "2022-01-22T17:13:00.925631Z",
     "shell.execute_reply.started": "2022-01-22T17:13:00.910671Z"
    },
    "tags": []
   },
   "outputs": [],
   "source": [
    "# Fits the explainer\n",
    "explainer_new = shap.Explainer(model_new.predict, X_test_boruta_shap)"
   ]
  },
  {
   "cell_type": "code",
   "execution_count": 40,
   "id": "e2678582",
   "metadata": {
    "execution": {
     "iopub.execute_input": "2022-01-22T17:13:00.928623Z",
     "iopub.status.busy": "2022-01-22T17:13:00.927626Z",
     "iopub.status.idle": "2022-01-22T17:13:05.123406Z",
     "shell.execute_reply": "2022-01-22T17:13:05.123406Z",
     "shell.execute_reply.started": "2022-01-22T17:13:00.928623Z"
    },
    "tags": []
   },
   "outputs": [],
   "source": [
    "# Calculates the SHAP values - It takes some time\n",
    "shap_values = explainer_new(X_test_boruta_shap)"
   ]
  },
  {
   "cell_type": "code",
   "execution_count": 41,
   "id": "3d699f11",
   "metadata": {
    "execution": {
     "iopub.execute_input": "2022-01-22T17:13:05.124403Z",
     "iopub.status.busy": "2022-01-22T17:13:05.124403Z",
     "iopub.status.idle": "2022-01-22T17:13:05.138365Z",
     "shell.execute_reply": "2022-01-22T17:13:05.138365Z",
     "shell.execute_reply.started": "2022-01-22T17:13:05.124403Z"
    },
    "tags": []
   },
   "outputs": [
    {
     "name": "stdout",
     "output_type": "stream",
     "text": [
      "s5 -> 26.2349 (softmax = 0.9989)\n",
      "bmi -> 19.4120 (softmax = 0.0011)\n",
      "bp -> 9.7329 (softmax = 0.0000)\n",
      "s3 -> 6.6783 (softmax = 0.0000)\n",
      "s6 -> 4.8357 (softmax = 0.0000)\n"
     ]
    }
   ],
   "source": [
    "# Prints the SHAP feature importances\n",
    "print_feature_importances_shap_values(shap_values, X_test_boruta_shap.columns)"
   ]
  },
  {
   "cell_type": "code",
   "execution_count": 42,
   "id": "86c66a49",
   "metadata": {
    "execution": {
     "iopub.execute_input": "2022-01-22T17:13:05.139363Z",
     "iopub.status.busy": "2022-01-22T17:13:05.139363Z",
     "iopub.status.idle": "2022-01-22T17:13:05.279987Z",
     "shell.execute_reply": "2022-01-22T17:13:05.279987Z",
     "shell.execute_reply.started": "2022-01-22T17:13:05.139363Z"
    },
    "tags": []
   },
   "outputs": [
    {
     "data": {
      "image/png": "[encoded data removed]",
      "text/plain": [
       "<Figure size 576x288 with 1 Axes>"
      ]
     },
     "metadata": {},
     "output_type": "display_data"
    }
   ],
   "source": [
    "# Plots this view\n",
    "shap.plots.bar(shap_values)"
   ]
  },
  {
   "cell_type": "code",
   "execution_count": 43,
   "id": "7c2c8ddf",
   "metadata": {
    "execution": {
     "iopub.execute_input": "2022-01-22T17:13:05.280984Z",
     "iopub.status.busy": "2022-01-22T17:13:05.280984Z",
     "iopub.status.idle": "2022-01-22T17:13:05.545278Z",
     "shell.execute_reply": "2022-01-22T17:13:05.545278Z",
     "shell.execute_reply.started": "2022-01-22T17:13:05.280984Z"
    },
    "tags": []
   },
   "outputs": [
    {
     "data": {
      "image/png": "[encoded data removed]",
      "text/plain": [
       "<Figure size 576x252 with 2 Axes>"
      ]
     },
     "metadata": {},
     "output_type": "display_data"
    }
   ],
   "source": [
    "# Plots the beeswarm\n",
    "shap.plots.beeswarm(shap_values, max_display=14)"
   ]
  },
  {
   "cell_type": "markdown",
   "id": "e158002a",
   "metadata": {},
   "source": [
    "## Plots the binomial distribution\n",
    "For the article"
   ]
  },
  {
   "cell_type": "code",
   "execution_count": 44,
   "id": "084b928e",
   "metadata": {
    "execution": {
     "iopub.execute_input": "2022-01-22T17:13:05.546275Z",
     "iopub.status.busy": "2022-01-22T17:13:05.546275Z",
     "iopub.status.idle": "2022-01-22T17:13:05.560237Z",
     "shell.execute_reply": "2022-01-22T17:13:05.560237Z",
     "shell.execute_reply.started": "2022-01-22T17:13:05.546275Z"
    },
    "tags": []
   },
   "outputs": [],
   "source": [
    "import matplotlib.pyplot as plt\n",
    "import seaborn as sns\n",
    "from scipy import stats"
   ]
  },
  {
   "cell_type": "code",
   "execution_count": 45,
   "id": "762e615c",
   "metadata": {
    "execution": {
     "iopub.execute_input": "2022-01-22T17:13:05.561235Z",
     "iopub.status.busy": "2022-01-22T17:13:05.561235Z",
     "iopub.status.idle": "2022-01-22T17:13:05.576195Z",
     "shell.execute_reply": "2022-01-22T17:13:05.576195Z",
     "shell.execute_reply.started": "2022-01-22T17:13:05.561235Z"
    }
   },
   "outputs": [],
   "source": [
    "n = 20\n",
    "p = 0.5"
   ]
  },
  {
   "cell_type": "code",
   "execution_count": 46,
   "id": "32de045c",
   "metadata": {
    "execution": {
     "iopub.execute_input": "2022-01-22T17:13:05.577192Z",
     "iopub.status.busy": "2022-01-22T17:13:05.577192Z",
     "iopub.status.idle": "2022-01-22T17:13:05.592152Z",
     "shell.execute_reply": "2022-01-22T17:13:05.592152Z",
     "shell.execute_reply.started": "2022-01-22T17:13:05.577192Z"
    },
    "tags": []
   },
   "outputs": [],
   "source": [
    "pmf = list(stats.binom.pmf(range(n + 1), n, p))"
   ]
  },
  {
   "cell_type": "code",
   "execution_count": 47,
   "id": "e04aa41b",
   "metadata": {
    "execution": {
     "iopub.execute_input": "2022-01-22T17:13:05.593150Z",
     "iopub.status.busy": "2022-01-22T17:13:05.593150Z",
     "iopub.status.idle": "2022-01-22T17:13:05.746739Z",
     "shell.execute_reply": "2022-01-22T17:13:05.746739Z",
     "shell.execute_reply.started": "2022-01-22T17:13:05.593150Z"
    },
    "tags": []
   },
   "outputs": [
    {
     "data": {
      "text/plain": [
       "<AxesSubplot:>"
      ]
     },
     "execution_count": 47,
     "metadata": {},
     "output_type": "execute_result"
    },
    {
     "data": {
      "image/png": "[encoded data removed]",
      "text/plain": [
       "<Figure size 864x360 with 1 Axes>"
      ]
     },
     "metadata": {},
     "output_type": "display_data"
    }
   ],
   "source": [
    "plt.figure(figsize = (12, 5))\n",
    "sns.scatterplot(x = range(n+1), y = pmf)\n",
    "sns.lineplot(x = range(n+1), y = pmf)"
   ]
  },
  {
   "cell_type": "code",
   "execution_count": 48,
   "id": "e10a4cc4",
   "metadata": {
    "execution": {
     "iopub.execute_input": "2022-01-22T17:13:05.747737Z",
     "iopub.status.busy": "2022-01-22T17:13:05.747737Z",
     "iopub.status.idle": "2022-01-22T17:13:05.762697Z",
     "shell.execute_reply": "2022-01-22T17:13:05.762697Z",
     "shell.execute_reply.started": "2022-01-22T17:13:05.747737Z"
    }
   },
   "outputs": [
    {
     "data": {
      "text/plain": [
       "[9.5367431640625e-07,\n",
       " 1.9073486328124993e-05,\n",
       " 0.00018119812011718736,\n",
       " 0.0010871887207031228,\n",
       " 0.004620552062988283,\n",
       " 0.014785766601562497,\n",
       " 0.036964416503906236,\n",
       " 0.07392883300781249,\n",
       " 0.1201343536376954,\n",
       " 0.1601791381835938,\n",
       " 0.17619705200195296,\n",
       " 0.1601791381835938,\n",
       " 0.12013435363769538,\n",
       " 0.07392883300781249,\n",
       " 0.036964416503906236,\n",
       " 0.014785766601562497,\n",
       " 0.004620552062988283,\n",
       " 0.0010871887207031228,\n",
       " 0.00018119812011718736,\n",
       " 1.9073486328124986e-05,\n",
       " 9.5367431640625e-07]"
      ]
     },
     "execution_count": 48,
     "metadata": {},
     "output_type": "execute_result"
    }
   ],
   "source": [
    "pmf"
   ]
  },
  {
   "cell_type": "code",
   "execution_count": 49,
   "id": "7d5dbfea",
   "metadata": {
    "execution": {
     "iopub.execute_input": "2022-01-22T17:13:05.763694Z",
     "iopub.status.busy": "2022-01-22T17:13:05.763694Z",
     "iopub.status.idle": "2022-01-22T17:13:05.777657Z",
     "shell.execute_reply": "2022-01-22T17:13:05.777657Z",
     "shell.execute_reply.started": "2022-01-22T17:13:05.763694Z"
    },
    "tags": []
   },
   "outputs": [
    {
     "data": {
      "text/plain": [
       "4.0"
      ]
     },
     "execution_count": 49,
     "metadata": {},
     "output_type": "execute_result"
    }
   ],
   "source": [
    "# In which \"point\" will we have a cumulative probability of 0.5%?\n",
    "stats.binom.ppf(0.005, n, p)"
   ]
  },
  {
   "cell_type": "code",
   "execution_count": 50,
   "id": "b5ab9ef8",
   "metadata": {
    "execution": {
     "iopub.execute_input": "2022-01-22T17:13:05.778655Z",
     "iopub.status.busy": "2022-01-22T17:13:05.778655Z",
     "iopub.status.idle": "2022-01-22T17:13:05.793614Z",
     "shell.execute_reply": "2022-01-22T17:13:05.793614Z",
     "shell.execute_reply.started": "2022-01-22T17:13:05.778655Z"
    }
   },
   "outputs": [
    {
     "data": {
      "text/plain": [
       "0.005908966064453125"
      ]
     },
     "execution_count": 50,
     "metadata": {},
     "output_type": "execute_result"
    }
   ],
   "source": [
    "# Confirming:\n",
    "stats.binom.cdf(4, n, p)"
   ]
  },
  {
   "cell_type": "code",
   "execution_count": 51,
   "id": "9c628a00",
   "metadata": {
    "execution": {
     "iopub.execute_input": "2022-01-22T17:13:05.794611Z",
     "iopub.status.busy": "2022-01-22T17:13:05.794611Z",
     "iopub.status.idle": "2022-01-22T17:13:05.809599Z",
     "shell.execute_reply": "2022-01-22T17:13:05.809599Z",
     "shell.execute_reply.started": "2022-01-22T17:13:05.794611Z"
    },
    "tags": []
   },
   "outputs": [
    {
     "data": {
      "text/plain": [
       "16.0"
      ]
     },
     "execution_count": 51,
     "metadata": {},
     "output_type": "execute_result"
    }
   ],
   "source": [
    "# In which \"point\" will we have a cumulative probability of 99.5%?\n",
    "stats.binom.ppf(0.995, n, p)"
   ]
  },
  {
   "cell_type": "code",
   "execution_count": 52,
   "id": "9c4eb6f5",
   "metadata": {
    "execution": {
     "iopub.execute_input": "2022-01-22T17:13:05.810568Z",
     "iopub.status.busy": "2022-01-22T17:13:05.810568Z",
     "iopub.status.idle": "2022-01-22T17:13:05.825528Z",
     "shell.execute_reply": "2022-01-22T17:13:05.825528Z",
     "shell.execute_reply.started": "2022-01-22T17:13:05.810568Z"
    }
   },
   "outputs": [
    {
     "data": {
      "text/plain": [
       "0.9987115859985352"
      ]
     },
     "execution_count": 52,
     "metadata": {},
     "output_type": "execute_result"
    }
   ],
   "source": [
    "# Confirming:\n",
    "stats.binom.cdf(16, n, p)"
   ]
  },
  {
   "cell_type": "markdown",
   "id": "b58e9deb",
   "metadata": {},
   "source": [
    "#### Final plot"
   ]
  },
  {
   "cell_type": "code",
   "execution_count": 53,
   "id": "c8352af4",
   "metadata": {
    "execution": {
     "iopub.execute_input": "2022-01-22T17:13:05.826526Z",
     "iopub.status.busy": "2022-01-22T17:13:05.826526Z",
     "iopub.status.idle": "2022-01-22T17:13:05.841486Z",
     "shell.execute_reply": "2022-01-22T17:13:05.841486Z",
     "shell.execute_reply.started": "2022-01-22T17:13:05.826526Z"
    },
    "tags": []
   },
   "outputs": [],
   "source": [
    "red_border = int(stats.binom.ppf(0.005, n, p))\n",
    "red_zone = pmf[:red_border+1]"
   ]
  },
  {
   "cell_type": "code",
   "execution_count": 54,
   "id": "3215709a",
   "metadata": {
    "execution": {
     "iopub.execute_input": "2022-01-22T17:13:05.842484Z",
     "iopub.status.busy": "2022-01-22T17:13:05.842484Z",
     "iopub.status.idle": "2022-01-22T17:13:05.857444Z",
     "shell.execute_reply": "2022-01-22T17:13:05.857444Z",
     "shell.execute_reply.started": "2022-01-22T17:13:05.842484Z"
    }
   },
   "outputs": [],
   "source": [
    "green_border = int(stats.binom.ppf(0.995, n, p))\n",
    "green_zone = pmf[green_border:]"
   ]
  },
  {
   "cell_type": "code",
   "execution_count": 55,
   "id": "0013af87",
   "metadata": {
    "execution": {
     "iopub.execute_input": "2022-01-22T17:13:05.858441Z",
     "iopub.status.busy": "2022-01-22T17:13:05.858441Z",
     "iopub.status.idle": "2022-01-22T17:13:05.873401Z",
     "shell.execute_reply": "2022-01-22T17:13:05.873401Z",
     "shell.execute_reply.started": "2022-01-22T17:13:05.858441Z"
    }
   },
   "outputs": [],
   "source": [
    "blue_zone = pmf[red_border:green_border+1]"
   ]
  },
  {
   "cell_type": "code",
   "execution_count": 56,
   "id": "7a6fa9b7",
   "metadata": {
    "execution": {
     "iopub.execute_input": "2022-01-22T17:13:05.874399Z",
     "iopub.status.busy": "2022-01-22T17:13:05.874399Z",
     "iopub.status.idle": "2022-01-22T17:13:06.137722Z",
     "shell.execute_reply": "2022-01-22T17:13:06.137722Z",
     "shell.execute_reply.started": "2022-01-22T17:13:05.874399Z"
    },
    "tags": []
   },
   "outputs": [
    {
     "data": {
      "text/plain": [
       "Text(0.5, 1.0, 'Binomial distribution. p = 0.5; n = 20')"
      ]
     },
     "execution_count": 56,
     "metadata": {},
     "output_type": "execute_result"
    },
    {
     "data": {
      "image/png": "[encoded data removed]",
      "text/plain": [
       "<Figure size 864x360 with 1 Axes>"
      ]
     },
     "metadata": {},
     "output_type": "display_data"
    }
   ],
   "source": [
    "plt.figure(figsize = (12, 5))\n",
    "# Scatters\n",
    "sns.scatterplot(x = range(0, red_border+1), y = red_zone, color = 'r', s = 120,  linewidth = 0)\n",
    "sns.scatterplot(x = range(red_border, green_border+1), y = blue_zone, color = 'b', s = 120,  linewidth = 0)\n",
    "sns.scatterplot(x = range(green_border, n+1), y = green_zone, color = 'g', s = 120,  linewidth = 0)\n",
    "# Lines\n",
    "sns.lineplot(x = range(0, red_border+1), y = red_zone, color = 'r', linewidth = 3)\n",
    "sns.lineplot(x = range(red_border, green_border+1), y = blue_zone, color = 'b', linewidth = 3)\n",
    "sns.lineplot(x = range(green_border, n+1), y = green_zone, color = 'g', linewidth = 3)\n",
    "# Vertical lines\n",
    "for x, y in zip(range(0, red_border+1), red_zone):\n",
    "    plt.plot([x, x], [0, y], color = 'r')\n",
    "for x, y in zip(range(red_border, green_border+1), blue_zone):\n",
    "    plt.plot([x, x], [0, y], color = 'b')\n",
    "for x, y in zip(range(green_border, n+1), green_zone):\n",
    "    plt.plot([x, x], [0, y], color = 'g')\n",
    "# Plot config\n",
    "plt.xticks(range(n+1))\n",
    "plt.title(\"Binomial distribution. p = 0.5; n = 20\")"
   ]
  },
  {
   "cell_type": "markdown",
   "id": "9f85f950",
   "metadata": {},
   "source": [
    "#### Table for the article"
   ]
  },
  {
   "cell_type": "code",
   "execution_count": 57,
   "id": "698f387b",
   "metadata": {
    "execution": {
     "iopub.execute_input": "2022-01-22T17:13:06.138691Z",
     "iopub.status.busy": "2022-01-22T17:13:06.138691Z",
     "iopub.status.idle": "2022-01-22T17:13:06.154649Z",
     "shell.execute_reply": "2022-01-22T17:13:06.153653Z",
     "shell.execute_reply.started": "2022-01-22T17:13:06.138691Z"
    },
    "tags": []
   },
   "outputs": [
    {
     "data": {
      "text/html": [
       "<div>\n",
       "<style scoped>\n",
       "    .dataframe tbody tr th:only-of-type {\n",
       "        vertical-align: middle;\n",
       "    }\n",
       "\n",
       "    .dataframe tbody tr th {\n",
       "        vertical-align: top;\n",
       "    }\n",
       "\n",
       "    .dataframe thead th {\n",
       "        text-align: right;\n",
       "    }\n",
       "</style>\n",
       "<table border=\"1\" class=\"dataframe\">\n",
       "  <thead>\n",
       "    <tr style=\"text-align: right;\">\n",
       "      <th></th>\n",
       "      <th>genre</th>\n",
       "      <th>audience_score</th>\n",
       "      <th>critic_score</th>\n",
       "    </tr>\n",
       "  </thead>\n",
       "  <tbody>\n",
       "    <tr>\n",
       "      <th>hits</th>\n",
       "      <td>3</td>\n",
       "      <td>14</td>\n",
       "      <td>20</td>\n",
       "    </tr>\n",
       "  </tbody>\n",
       "</table>\n",
       "</div>"
      ],
      "text/plain": [
       "      genre  audience_score  critic_score\n",
       "hits      3              14            20"
      ]
     },
     "execution_count": 57,
     "metadata": {},
     "output_type": "execute_result"
    }
   ],
   "source": [
    "pd.DataFrame(index = [\"hits\"], data = {\"genre\" : 3, \"audience_score\" : 14, \"critic_score\"  : 20})"
   ]
  }
 ],
 "metadata": {
  "kernelspec": {
   "display_name": "Python 3 (ipykernel)",
   "language": "python",
   "name": "python3"
  },
  "language_info": {
   "codemirror_mode": {
    "name": "ipython",
    "version": 3
   },
   "file_extension": ".py",
   "mimetype": "text/x-python",
   "name": "python",
   "nbconvert_exporter": "python",
   "pygments_lexer": "ipython3",
   "version": "3.10.12"
  }
 },
 "nbformat": 4,
 "nbformat_minor": 5
}
